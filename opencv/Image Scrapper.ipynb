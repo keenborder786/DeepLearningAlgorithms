{
 "cells": [
  {
   "cell_type": "code",
   "execution_count": 25,
   "metadata": {},
   "outputs": [],
   "source": [
    "import random\n",
    "from urllib import request\n",
    "from bs4 import BeautifulSoup\n",
    "from urllib.request import Request, urlopen,urlretrieve\n",
    "import os"
   ]
  },
  {
   "cell_type": "code",
   "execution_count": null,
   "metadata": {},
   "outputs": [],
   "source": [
    "def download_web_image(url):\n",
    "    hdr = {'User-Agent': 'Mozilla/5.0'}\n",
    "    req = Request(url,headers=hdr)\n",
    "    page = urlopen(req)\n",
    "    info=BeautifulSoup(page,'html.parser')\n",
    "    img=info.find_all(\"img\")\n",
    "    for i in img:\n",
    "        name=random.randrange(1,1000)\n",
    "        img_url=i[\"src\"]\n",
    "        urlretrieve(img_url, str(name)+\".jpg\")\n",
    "    return img\n",
    "download_web_image(\"https://angelscollege.edu.pk/media/gallery/\")"
   ]
  },
  {
   "cell_type": "code",
   "execution_count": null,
   "metadata": {},
   "outputs": [],
   "source": []
  }
 ],
 "metadata": {
  "kernelspec": {
   "display_name": "Python 3",
   "language": "python",
   "name": "python3"
  },
  "language_info": {
   "codemirror_mode": {
    "name": "ipython",
    "version": 3
   },
   "file_extension": ".py",
   "mimetype": "text/x-python",
   "name": "python",
   "nbconvert_exporter": "python",
   "pygments_lexer": "ipython3",
   "version": "3.7.1"
  }
 },
 "nbformat": 4,
 "nbformat_minor": 2
}
